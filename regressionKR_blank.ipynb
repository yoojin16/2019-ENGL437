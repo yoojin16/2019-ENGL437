{
 "cells": [
  {
   "cell_type": "markdown",
   "metadata": {},
   "source": [
    "# import modules\n",
    "    pandas: 엑셀 파일 불러오는데 최적화 된 모듈."
   ]
  },
  {
   "cell_type": "code",
   "execution_count": 1,
   "metadata": {},
   "outputs": [],
   "source": [
    "import pandas as pd\n",
    "import numpy as np\n",
    "import matplotlib.pyplot as plt\n",
    "\n",
    "from tensorflow.keras.models import Sequential\n",
    "from tensorflow.keras.layers import Dense\n"
   ]
  },
  {
   "cell_type": "markdown",
   "metadata": {},
   "source": [
    "# data preparation and visualization\n",
    "    "
   ]
  },
  {
   "cell_type": "code",
   "execution_count": 2,
   "metadata": {},
   "outputs": [
    {
     "data": {
      "text/plain": [
       "[<matplotlib.lines.Line2D at 0x1f368bd5588>]"
      ]
     },
     "execution_count": 2,
     "metadata": {},
     "output_type": "execute_result"
    },
    {
     "data": {
      "image/png": "[encoded data removed]",
      "text/plain": [
       "<Figure size 432x288 with 1 Axes>"
      ]
     },
     "metadata": {
      "needs_background": "light"
     },
     "output_type": "display_data"
    }
   ],
   "source": [
    "data=pd.read_csv('regression.csv')\n",
    "X = data['X']\n",
    "Y = data['Y']\n",
    "plt.plot(X,Y,'.')\n",
    "# plot해서 visualize 하면 패턴을 확인할 수 있음!"
   ]
  },
  {
   "cell_type": "markdown",
   "metadata": {},
   "source": [
    "# create model\n",
    "    y=ax+b의 형태가 만들어진 것. 아직 데이터는 입력되지 않았음\n",
    "    1 epoch = 한번 데이터를 다 쓰는 것.\n",
    "    출력값과 실제 정답의 갭을 매꾸는데 미분 사용. sgd="
   ]
  },
  {
   "cell_type": "code",
   "execution_count": 4,
   "metadata": {
    "scrolled": false
   },
   "outputs": [],
   "source": [
    "model = Sequential()\n",
    "model.add(Dense(1,input_shape=[1]))\n",
    "# 어떤 모델의 이름이 Dense. dense의 의미는 모델의 형태를 떠올렸을 때 dense하기 때문.\n",
    "# dense는 출력부분, input shape는 입력 부분이라고 생각. 즉 입력이 1개 출력이 1개.  입력, 출력의 개수가 바뀌면 숫자만 바꿔주면 됨. y=ax+b 형태의 가장 간단한 인공 신경망을 만든 것.\n",
    "model.compile(optimizer=\"sgd\", loss='mse') \n",
    "# loss는 출력값과 실제 정답의 차이에 대한 것. 그것을 처리하는 여러 방식 중의 하나를 선택하는 것. "
   ]
  },
  {
   "cell_type": "markdown",
   "metadata": {},
   "source": [
    "# train model\n",
    "    점점 loss가 0에 수렴해가는 것을 볼 수 있음."
   ]
  },
  {
   "cell_type": "code",
   "execution_count": 5,
   "metadata": {},
   "outputs": [
    {
     "name": "stdout",
     "output_type": "stream",
     "text": [
      "WARNING:tensorflow:From C:\\Users\\0503k\\Anaconda3\\lib\\site-packages\\tensorflow\\python\\ops\\math_ops.py:3066: to_int32 (from tensorflow.python.ops.math_ops) is deprecated and will be removed in a future version.\n",
      "Instructions for updating:\n",
      "Use tf.cast instead.\n",
      "Epoch 1/100\n",
      "17/17 [==============================] - 1s 38ms/sample - loss: 9.7777\n",
      "Epoch 2/100\n",
      "17/17 [==============================] - 0s 0s/sample - loss: 0.3099\n",
      "Epoch 3/100\n",
      "17/17 [==============================] - 0s 1ms/sample - loss: 0.2208\n",
      "Epoch 4/100\n",
      "17/17 [==============================] - 0s 0s/sample - loss: 0.2197\n",
      "Epoch 5/100\n",
      "17/17 [==============================] - 0s 531us/sample - loss: 0.2194\n",
      "Epoch 6/100\n",
      "17/17 [==============================] - 0s 222us/sample - loss: 0.2191\n",
      "Epoch 7/100\n",
      "17/17 [==============================] - 0s 262us/sample - loss: 0.2187\n",
      "Epoch 8/100\n",
      "17/17 [==============================] - 0s 205us/sample - loss: 0.2184\n",
      "Epoch 9/100\n",
      "17/17 [==============================] - 0s 346us/sample - loss: 0.2181\n",
      "Epoch 10/100\n",
      "17/17 [==============================] - 0s 386us/sample - loss: 0.2178\n",
      "Epoch 11/100\n",
      "17/17 [==============================] - 0s 341us/sample - loss: 0.2175\n",
      "Epoch 12/100\n",
      "17/17 [==============================] - 0s 0s/sample - loss: 0.2172\n",
      "Epoch 13/100\n",
      "17/17 [==============================] - 0s 423us/sample - loss: 0.2169\n",
      "Epoch 14/100\n",
      "17/17 [==============================] - 0s 219us/sample - loss: 0.2166\n",
      "Epoch 15/100\n",
      "17/17 [==============================] - 0s 331us/sample - loss: 0.2163\n",
      "Epoch 16/100\n",
      "17/17 [==============================] - 0s 355us/sample - loss: 0.2160\n",
      "Epoch 17/100\n",
      "17/17 [==============================] - 0s 347us/sample - loss: 0.2157\n",
      "Epoch 18/100\n",
      "17/17 [==============================] - 0s 462us/sample - loss: 0.2154\n",
      "Epoch 19/100\n",
      "17/17 [==============================] - 0s 397us/sample - loss: 0.2151\n",
      "Epoch 20/100\n",
      "17/17 [==============================] - 0s 567us/sample - loss: 0.2148\n",
      "Epoch 21/100\n",
      "17/17 [==============================] - 0s 58us/sample - loss: 0.2145\n",
      "Epoch 22/100\n",
      "17/17 [==============================] - 0s 59us/sample - loss: 0.2142\n",
      "Epoch 23/100\n",
      "17/17 [==============================] - 0s 164us/sample - loss: 0.2139\n",
      "Epoch 24/100\n",
      "17/17 [==============================] - 0s 166us/sample - loss: 0.2136\n",
      "Epoch 25/100\n",
      "17/17 [==============================] - 0s 61us/sample - loss: 0.2133\n",
      "Epoch 26/100\n",
      "17/17 [==============================] - 0s 0s/sample - loss: 0.2130\n",
      "Epoch 27/100\n",
      "17/17 [==============================] - 0s 478us/sample - loss: 0.2127\n",
      "Epoch 28/100\n",
      "17/17 [==============================] - 0s 434us/sample - loss: 0.2124\n",
      "Epoch 29/100\n",
      "17/17 [==============================] - 0s 3ms/sample - loss: 0.2122\n",
      "Epoch 30/100\n",
      "17/17 [==============================] - 0s 258us/sample - loss: 0.2119\n",
      "Epoch 31/100\n",
      "17/17 [==============================] - 0s 245us/sample - loss: 0.2116\n",
      "Epoch 32/100\n",
      "17/17 [==============================] - 0s 0s/sample - loss: 0.2113\n",
      "Epoch 33/100\n",
      "17/17 [==============================] - 0s 575us/sample - loss: 0.2110\n",
      "Epoch 34/100\n",
      "17/17 [==============================] - 0s 535us/sample - loss: 0.2108\n",
      "Epoch 35/100\n",
      "17/17 [==============================] - 0s 632us/sample - loss: 0.2105\n",
      "Epoch 36/100\n",
      "17/17 [==============================] - 0s 0s/sample - loss: 0.2102\n",
      "Epoch 37/100\n",
      "17/17 [==============================] - 0s 0s/sample - loss: 0.2099\n",
      "Epoch 38/100\n",
      "17/17 [==============================] - 0s 2ms/sample - loss: 0.2097\n",
      "Epoch 39/100\n",
      "17/17 [==============================] - 0s 417us/sample - loss: 0.2094\n",
      "Epoch 40/100\n",
      "17/17 [==============================] - 0s 485us/sample - loss: 0.2091\n",
      "Epoch 41/100\n",
      "17/17 [==============================] - 0s 521us/sample - loss: 0.2089\n",
      "Epoch 42/100\n",
      "17/17 [==============================] - 0s 180us/sample - loss: 0.2086\n",
      "Epoch 43/100\n",
      "17/17 [==============================] - 0s 0s/sample - loss: 0.2083\n",
      "Epoch 44/100\n",
      "17/17 [==============================] - 0s 988us/sample - loss: 0.2081\n",
      "Epoch 45/100\n",
      "17/17 [==============================] - 0s 575us/sample - loss: 0.2078\n",
      "Epoch 46/100\n",
      "17/17 [==============================] - 0s 328us/sample - loss: 0.2075\n",
      "Epoch 47/100\n",
      "17/17 [==============================] - 0s 0s/sample - loss: 0.2073\n",
      "Epoch 48/100\n",
      "17/17 [==============================] - 0s 702us/sample - loss: 0.2070\n",
      "Epoch 49/100\n",
      "17/17 [==============================] - 0s 0s/sample - loss: 0.2068\n",
      "Epoch 50/100\n",
      "17/17 [==============================] - 0s 592us/sample - loss: 0.2065\n",
      "Epoch 51/100\n",
      "17/17 [==============================] - 0s 447us/sample - loss: 0.2062\n",
      "Epoch 52/100\n",
      "17/17 [==============================] - 0s 329us/sample - loss: 0.2060\n",
      "Epoch 53/100\n",
      "17/17 [==============================] - 0s 398us/sample - loss: 0.2057\n",
      "Epoch 54/100\n",
      "17/17 [==============================] - 0s 59us/sample - loss: 0.2055\n",
      "Epoch 55/100\n",
      "17/17 [==============================] - 0s 0s/sample - loss: 0.2052\n",
      "Epoch 56/100\n",
      "17/17 [==============================] - 0s 157us/sample - loss: 0.2050\n",
      "Epoch 57/100\n",
      "17/17 [==============================] - 0s 0s/sample - loss: 0.2047\n",
      "Epoch 58/100\n",
      "17/17 [==============================] - 0s 536us/sample - loss: 0.2045\n",
      "Epoch 59/100\n",
      "17/17 [==============================] - 0s 255us/sample - loss: 0.2042\n",
      "Epoch 60/100\n",
      "17/17 [==============================] - 0s 157us/sample - loss: 0.2040\n",
      "Epoch 61/100\n",
      "17/17 [==============================] - 0s 223us/sample - loss: 0.2038\n",
      "Epoch 62/100\n",
      "17/17 [==============================] - 0s 235us/sample - loss: 0.2035\n",
      "Epoch 63/100\n",
      "17/17 [==============================] - 0s 223us/sample - loss: 0.2033\n",
      "Epoch 64/100\n",
      "17/17 [==============================] - 0s 0s/sample - loss: 0.2030\n",
      "Epoch 65/100\n",
      "17/17 [==============================] - 0s 0s/sample - loss: 0.2028\n",
      "Epoch 66/100\n",
      "17/17 [==============================] - 0s 177us/sample - loss: 0.2026\n",
      "Epoch 67/100\n",
      "17/17 [==============================] - 0s 252us/sample - loss: 0.2023\n",
      "Epoch 68/100\n",
      "17/17 [==============================] - 0s 117us/sample - loss: 0.2021\n",
      "Epoch 69/100\n",
      "17/17 [==============================] - 0s 168us/sample - loss: 0.2019\n",
      "Epoch 70/100\n",
      "17/17 [==============================] - 0s 0s/sample - loss: 0.2016\n",
      "Epoch 71/100\n",
      "17/17 [==============================] - 0s 0s/sample - loss: 0.2014\n",
      "Epoch 72/100\n",
      "17/17 [==============================] - 0s 0s/sample - loss: 0.2012\n",
      "Epoch 73/100\n",
      "17/17 [==============================] - 0s 287us/sample - loss: 0.2009\n",
      "Epoch 74/100\n",
      "17/17 [==============================] - 0s 235us/sample - loss: 0.2007\n",
      "Epoch 75/100\n",
      "17/17 [==============================] - 0s 185us/sample - loss: 0.2005\n",
      "Epoch 76/100\n",
      "17/17 [==============================] - 0s 997us/sample - loss: 0.2002\n",
      "Epoch 77/100\n",
      "17/17 [==============================] - 0s 0s/sample - loss: 0.2000\n",
      "Epoch 78/100\n",
      "17/17 [==============================] - 0s 0s/sample - loss: 0.1998\n",
      "Epoch 79/100\n",
      "17/17 [==============================] - 0s 730us/sample - loss: 0.1996\n",
      "Epoch 80/100\n",
      "17/17 [==============================] - 0s 270us/sample - loss: 0.1994\n",
      "Epoch 81/100\n",
      "17/17 [==============================] - 0s 160us/sample - loss: 0.1991\n",
      "Epoch 82/100\n",
      "17/17 [==============================] - 0s 355us/sample - loss: 0.1989\n",
      "Epoch 83/100\n",
      "17/17 [==============================] - 0s 59us/sample - loss: 0.1987\n",
      "Epoch 84/100\n",
      "17/17 [==============================] - 0s 359us/sample - loss: 0.1985\n",
      "Epoch 85/100\n",
      "17/17 [==============================] - 0s 369us/sample - loss: 0.1983\n",
      "Epoch 86/100\n",
      "17/17 [==============================] - 0s 494us/sample - loss: 0.1980\n",
      "Epoch 87/100\n",
      "17/17 [==============================] - 0s 169us/sample - loss: 0.1978\n",
      "Epoch 88/100\n",
      "17/17 [==============================] - 0s 691us/sample - loss: 0.1976\n",
      "Epoch 89/100\n",
      "17/17 [==============================] - 0s 497us/sample - loss: 0.1974\n",
      "Epoch 90/100\n",
      "17/17 [==============================] - 0s 0s/sample - loss: 0.1972\n",
      "Epoch 91/100\n",
      "17/17 [==============================] - 0s 0s/sample - loss: 0.1970\n",
      "Epoch 92/100\n",
      "17/17 [==============================] - 0s 1ms/sample - loss: 0.1968\n",
      "Epoch 93/100\n",
      "17/17 [==============================] - 0s 125us/sample - loss: 0.1966\n",
      "Epoch 94/100\n",
      "17/17 [==============================] - 0s 0s/sample - loss: 0.1964\n",
      "Epoch 95/100\n",
      "17/17 [==============================] - 0s 812us/sample - loss: 0.1962\n"
     ]
    },
    {
     "name": "stdout",
     "output_type": "stream",
     "text": [
      "Epoch 96/100\n",
      "17/17 [==============================] - 0s 0s/sample - loss: 0.1959\n",
      "Epoch 97/100\n",
      "17/17 [==============================] - 0s 2ms/sample - loss: 0.1957\n",
      "Epoch 98/100\n",
      "17/17 [==============================] - 0s 326us/sample - loss: 0.1955\n",
      "Epoch 99/100\n",
      "17/17 [==============================] - 0s 233us/sample - loss: 0.1953\n",
      "Epoch 100/100\n",
      "17/17 [==============================] - 0s 131us/sample - loss: 0.1951\n"
     ]
    },
    {
     "data": {
      "text/plain": [
       "<tensorflow.python.keras.callbacks.History at 0x1f368c1f518>"
      ]
     },
     "execution_count": 5,
     "metadata": {},
     "output_type": "execute_result"
    }
   ],
   "source": [
    "model.fit(X, Y, epochs=100)"
   ]
  },
  {
   "cell_type": "markdown",
   "metadata": {},
   "source": [
    "# model prediction\n",
    "    어떤 시스템을 만들고, 어떤 출력값이 나올지 모르지만 일단 입력값을 넣어보는 것.\n",
    "    파란색 점들은 원래의 데이터 값이고, x는 각각의 입력을 넣었을 때 예측되는 값.\n",
    "    predict해보니 데이터를 잘 예측하고 있음을 알 수 있음."
   ]
  },
  {
   "cell_type": "markdown",
   "metadata": {},
   "source": [
    "대문자 X,Y는 위의 데이터, 소문자는 예측값"
   ]
  },
  {
   "cell_type": "code",
   "execution_count": 6,
   "metadata": {},
   "outputs": [
    {
     "data": {
      "text/plain": [
       "[<matplotlib.lines.Line2D at 0x1f369067160>]"
      ]
     },
     "execution_count": 6,
     "metadata": {},
     "output_type": "execute_result"
    },
    {
     "data": {
      "image/png": "[encoded data removed]",
      "text/plain": [
       "<Figure size 432x288 with 1 Axes>"
      ]
     },
     "metadata": {
      "needs_background": "light"
     },
     "output_type": "display_data"
    }
   ],
   "source": [
    "x = [1,2,3,4,5,6,7,8,9,10]\n",
    "y = model.predict(x)\n",
    "plt.plot(X,Y,'.')\n",
    "plt.plot(x,y, 'rx')"
   ]
  },
  {
   "cell_type": "markdown",
   "metadata": {},
   "source": [
    "# what are a and b in y = ax + b?\n",
    "    print(weight)하면 값이 두 개가 나오는데, 첫 번째 것은 a, 두 번째 것은 b를 의미.\n",
    "    layer은 딥러닝에서의 층위를 의미. 지금은 layer를 하나만 만들었으므로 0번째 것밖에 볼 수 없음.\n",
    "    a, b는 위 그래프의 기울기와 y절편 의미."
   ]
  },
  {
   "cell_type": "code",
   "execution_count": 7,
   "metadata": {},
   "outputs": [
    {
     "name": "stdout",
     "output_type": "stream",
     "text": [
      "[array([[0.3328885]], dtype=float32), array([0.22274987], dtype=float32)]\n"
     ]
    }
   ],
   "source": [
    "weight = model.layers[0].get_weights()\n",
    "print(weight)"
   ]
  },
  {
   "cell_type": "code",
   "execution_count": null,
   "metadata": {},
   "outputs": [],
   "source": []
  }
 ],
 "metadata": {
  "kernelspec": {
   "display_name": "Python 3",
   "language": "python",
   "name": "python3"
  },
  "language_info": {
   "codemirror_mode": {
    "name": "ipython",
    "version": 3
   },
   "file_extension": ".py",
   "mimetype": "text/x-python",
   "name": "python",
   "nbconvert_exporter": "python",
   "pygments_lexer": "ipython3",
   "version": "3.7.1"
  }
 },
 "nbformat": 4,
 "nbformat_minor": 1
}
